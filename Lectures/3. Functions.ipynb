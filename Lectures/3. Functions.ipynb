{
 "cells": [
  {
   "cell_type": "markdown",
   "metadata": {},
   "source": [
    "#  1. Functions (`def` and `lambda`)"
   ]
  },
  {
   "cell_type": "markdown",
   "metadata": {},
   "source": [
    "## 1.1 Functions (def)"
   ]
  },
  {
   "cell_type": "markdown",
   "metadata": {},
   "source": [
    "<img src = \"https://github.com/saeed-saffari/alzahra-workshop-spr2021/blob/main/lecture/PIC/python-functions.gif?raw=true\" width = 750>"
   ]
  },
  {
   "cell_type": "markdown",
   "metadata": {},
   "source": [
    "You might have noticed so far that Python is rather limited as a programming language.\n",
    "This is because Python is a general-purpose language: it should be flexible enough for everybody to achieve their goals, but it cannot afford to be a BIG library of code.\n",
    "\n",
    "\n",
    "We can define a new function by using the `def` keyword, listing arguments in round parentheses.\n",
    "Also, if we want the function to give back something, we should explicitly instruct Python to do so with the `return` keyword.\n",
    "\n",
    "**General structure:**\n",
    "```python\n",
    "def function_name(parameters):\n",
    "    \"\"\" codes \"\"\"\n",
    "    statement(s)\n",
    "```"
   ]
  },
  {
   "cell_type": "code",
   "execution_count": null,
   "metadata": {},
   "outputs": [],
   "source": [
    "def test_1():\n",
    "    ...\n",
    "    ...\n",
    "    ...\n",
    "    return ..."
   ]
  },
  {
   "cell_type": "code",
   "execution_count": null,
   "metadata": {},
   "outputs": [],
   "source": [
    "def test_2():\n",
    "    ...\n",
    "    ...\n",
    "    ...\n",
    "    print(...)"
   ]
  },
  {
   "cell_type": "code",
   "execution_count": null,
   "metadata": {},
   "outputs": [],
   "source": [
    "test_1()\n",
    "test_2()"
   ]
  },
  {
   "cell_type": "code",
   "execution_count": null,
   "metadata": {},
   "outputs": [],
   "source": [
    "def test_3(x,y,z):\n",
    "    ...\n",
    "    ...\n",
    "    ...\n",
    "    print(...) # retuen..."
   ]
  },
  {
   "cell_type": "code",
   "execution_count": null,
   "metadata": {},
   "outputs": [],
   "source": [
    "test_3(12,14,0.2)"
   ]
  },
  {
   "cell_type": "code",
   "execution_count": null,
   "metadata": {},
   "outputs": [],
   "source": []
  },
  {
   "cell_type": "markdown",
   "metadata": {},
   "source": [
    "For example, Python does not know what a square root of a number is.\n",
    "While we can always rely on the fact that $\\sqrt[n]{x} = x^{1/n}$, it might be useful to define a dedicated function that does the job.\n",
    "In this example, defining a function improves code readability."
   ]
  },
  {
   "cell_type": "code",
   "execution_count": 1,
   "metadata": {},
   "outputs": [],
   "source": [
    "def sqrt(x):\n",
    "    return x ** (1/2)"
   ]
  },
  {
   "cell_type": "markdown",
   "metadata": {},
   "source": [
    "Here we defined the square-root function.\n",
    "As it is, this function works for all values of $x$, even negative ones (the result will be a complex number).\n",
    "\n",
    "Again, note that the `def` statement ends with a semicolon (`:`) and any code that belongs to the function is indented with respect to the line containing the keyword `def`."
   ]
  },
  {
   "cell_type": "code",
   "execution_count": 5,
   "metadata": {},
   "outputs": [
    {
     "data": {
      "text/plain": [
       "1.4142135623730951"
      ]
     },
     "execution_count": 5,
     "metadata": {},
     "output_type": "execute_result"
    }
   ],
   "source": [
    "sqrt(2)"
   ]
  },
  {
   "cell_type": "markdown",
   "metadata": {},
   "source": [
    "An example of a slightly more sophisticated function is one that computes the real roots a (non-negative) number."
   ]
  },
  {
   "cell_type": "code",
   "execution_count": 21,
   "metadata": {},
   "outputs": [],
   "source": [
    "def real_nth_root(x, n=2):\n",
    "    if x < 0:\n",
    "        raise ValueError('Root argument must be non-negetive!')\n",
    "    return x ** (1/n)"
   ]
  },
  {
   "cell_type": "code",
   "execution_count": 17,
   "metadata": {},
   "outputs": [
    {
     "data": {
      "text/plain": [
       "1.2599210498948732"
      ]
     },
     "execution_count": 17,
     "metadata": {},
     "output_type": "execute_result"
    }
   ],
   "source": [
    "real_nth_root(2,3)"
   ]
  },
  {
   "cell_type": "markdown",
   "metadata": {},
   "source": [
    "This function performs the so-called _input validation_.\n",
    "To ensure that the result of $\\sqrt[n]{x}$ is a real number, we must ensure that $x$ is non-negative.\n",
    "We do this with an `if` clause and instructing Python to terminate the execution of the function with a `raise` command, which issues an error.\n",
    "Also, the function we defined takes two arguments: `x` and `n`.\n",
    "By specifying `n=2` in the `def` statement, we are saying that the default value of $n$ should be two, but the user can change that value arbitrarily."
   ]
  },
  {
   "cell_type": "code",
   "execution_count": 22,
   "metadata": {},
   "outputs": [
    {
     "ename": "ValueError",
     "evalue": "Root argument must be non-negetive!",
     "output_type": "error",
     "traceback": [
      "\u001b[0;31m---------------------------------------------------------------------------\u001b[0m",
      "\u001b[0;31mValueError\u001b[0m                                Traceback (most recent call last)",
      "Cell \u001b[0;32mIn[22], line 1\u001b[0m\n\u001b[0;32m----> 1\u001b[0m \u001b[43mreal_nth_root\u001b[49m\u001b[43m(\u001b[49m\u001b[38;5;241;43m-\u001b[39;49m\u001b[38;5;241;43m2\u001b[39;49m\u001b[43m)\u001b[49m\n",
      "Cell \u001b[0;32mIn[21], line 3\u001b[0m, in \u001b[0;36mreal_nth_root\u001b[0;34m(x, n)\u001b[0m\n\u001b[1;32m      1\u001b[0m \u001b[38;5;28;01mdef\u001b[39;00m \u001b[38;5;21mreal_nth_root\u001b[39m(x, n\u001b[38;5;241m=\u001b[39m\u001b[38;5;241m2\u001b[39m):\n\u001b[1;32m      2\u001b[0m     \u001b[38;5;28;01mif\u001b[39;00m x \u001b[38;5;241m<\u001b[39m \u001b[38;5;241m0\u001b[39m:\n\u001b[0;32m----> 3\u001b[0m         \u001b[38;5;28;01mraise\u001b[39;00m \u001b[38;5;167;01mValueError\u001b[39;00m(\u001b[38;5;124m'\u001b[39m\u001b[38;5;124mRoot argument must be non-negetive!\u001b[39m\u001b[38;5;124m'\u001b[39m)\n\u001b[1;32m      4\u001b[0m     \u001b[38;5;28;01mreturn\u001b[39;00m x \u001b[38;5;241m*\u001b[39m\u001b[38;5;241m*\u001b[39m (\u001b[38;5;241m1\u001b[39m\u001b[38;5;241m/\u001b[39mn)\n",
      "\u001b[0;31mValueError\u001b[0m: Root argument must be non-negetive!"
     ]
    }
   ],
   "source": [
    "real_nth_root(-2)"
   ]
  },
  {
   "cell_type": "code",
   "execution_count": 25,
   "metadata": {},
   "outputs": [
    {
     "data": {
      "text/plain": [
       "4.999999999999999"
      ]
     },
     "execution_count": 25,
     "metadata": {},
     "output_type": "execute_result"
    }
   ],
   "source": [
    "real_nth_root(125,3)"
   ]
  },
  {
   "cell_type": "markdown",
   "metadata": {},
   "source": [
    "### 1.1.1 Other example"
   ]
  },
  {
   "cell_type": "code",
   "execution_count": 26,
   "metadata": {},
   "outputs": [],
   "source": [
    "def echo(i):\n",
    "    print(i)"
   ]
  },
  {
   "cell_type": "code",
   "execution_count": 27,
   "metadata": {},
   "outputs": [
    {
     "name": "stdout",
     "output_type": "stream",
     "text": [
      "Salaaaaam!\n"
     ]
    }
   ],
   "source": [
    "echo('Salaaaaam!')"
   ]
  },
  {
   "cell_type": "code",
   "execution_count": 28,
   "metadata": {},
   "outputs": [],
   "source": [
    "x = 10"
   ]
  },
  {
   "cell_type": "code",
   "execution_count": 29,
   "metadata": {},
   "outputs": [
    {
     "name": "stdout",
     "output_type": "stream",
     "text": [
      "10\n"
     ]
    }
   ],
   "source": [
    "print(x)"
   ]
  },
  {
   "cell_type": "code",
   "execution_count": 30,
   "metadata": {},
   "outputs": [
    {
     "name": "stdout",
     "output_type": "stream",
     "text": [
      "10\n"
     ]
    }
   ],
   "source": [
    "echo(x)"
   ]
  },
  {
   "cell_type": "code",
   "execution_count": 31,
   "metadata": {},
   "outputs": [],
   "source": [
    "def mean3(x,y,z):\n",
    "    summ = x + y + z\n",
    "    ave = summ / 3\n",
    "    return ave"
   ]
  },
  {
   "cell_type": "code",
   "execution_count": 32,
   "metadata": {},
   "outputs": [],
   "source": [
    "def mean3_prime(x,y,z):\n",
    "    return (x+y+z)/3"
   ]
  },
  {
   "cell_type": "code",
   "execution_count": 33,
   "metadata": {},
   "outputs": [
    {
     "data": {
      "text/plain": [
       "27.0"
      ]
     },
     "execution_count": 33,
     "metadata": {},
     "output_type": "execute_result"
    }
   ],
   "source": [
    "mean3_prime(13,12,56)"
   ]
  },
  {
   "cell_type": "code",
   "execution_count": 35,
   "metadata": {},
   "outputs": [
    {
     "data": {
      "text/plain": [
       "7.0"
      ]
     },
     "execution_count": 35,
     "metadata": {},
     "output_type": "execute_result"
    }
   ],
   "source": [
    "mean3(12,-34,43)"
   ]
  },
  {
   "cell_type": "code",
   "execution_count": 39,
   "metadata": {},
   "outputs": [
    {
     "data": {
      "text/plain": [
       "30.666666666666668"
      ]
     },
     "execution_count": 39,
     "metadata": {},
     "output_type": "execute_result"
    }
   ],
   "source": [
    "mean3_prime(13,45,34)"
   ]
  },
  {
   "cell_type": "code",
   "execution_count": 40,
   "metadata": {},
   "outputs": [
    {
     "name": "stdout",
     "output_type": "stream",
     "text": [
      "7.0\n"
     ]
    }
   ],
   "source": [
    "m = mean3(12,-34,43)\n",
    "print(m)"
   ]
  },
  {
   "cell_type": "code",
   "execution_count": 43,
   "metadata": {},
   "outputs": [],
   "source": [
    "def hello():\n",
    "    name = input('Enter your name: ')\n",
    "    \n",
    "    if name:\n",
    "        print('Hello ' + str(name) + '!')\n",
    "    else:\n",
    "        print(\"Hello World!\")"
   ]
  },
  {
   "cell_type": "code",
   "execution_count": 44,
   "metadata": {},
   "outputs": [
    {
     "name": "stdout",
     "output_type": "stream",
     "text": [
      "Enter your name: Saeed\n",
      "Hello Saeed!\n"
     ]
    }
   ],
   "source": [
    "hello()"
   ]
  },
  {
   "cell_type": "code",
   "execution_count": 45,
   "metadata": {},
   "outputs": [
    {
     "name": "stdout",
     "output_type": "stream",
     "text": [
      "Enter your name: \n",
      "Hello World!\n"
     ]
    }
   ],
   "source": [
    "hello()"
   ]
  },
  {
   "cell_type": "code",
   "execution_count": 47,
   "metadata": {},
   "outputs": [],
   "source": [
    "def price():\n",
    "    age = int(input('Enter your name:'))\n",
    "    \n",
    "    if age < 4:\n",
    "        price = 0\n",
    "    elif age < 16:\n",
    "        price = 5\n",
    "    else:\n",
    "        price = 10\n",
    "    \n",
    "    print('Your cost is {}$.'.format(price))"
   ]
  },
  {
   "cell_type": "code",
   "execution_count": 50,
   "metadata": {},
   "outputs": [
    {
     "name": "stdout",
     "output_type": "stream",
     "text": [
      "Enter your name:2\n",
      "Your cost is 0$.\n"
     ]
    }
   ],
   "source": [
    "price()"
   ]
  },
  {
   "cell_type": "code",
   "execution_count": 51,
   "metadata": {},
   "outputs": [
    {
     "name": "stdout",
     "output_type": "stream",
     "text": [
      "Enter your name:29\n",
      "Your cost is 10$.\n"
     ]
    }
   ],
   "source": [
    "price()"
   ]
  },
  {
   "cell_type": "code",
   "execution_count": 52,
   "metadata": {},
   "outputs": [],
   "source": [
    "# Guess number"
   ]
  },
  {
   "cell_type": "code",
   "execution_count": 69,
   "metadata": {},
   "outputs": [],
   "source": [
    "import random\n",
    "\n",
    "cump_num = random.randint(1,100)\n",
    "#cump_num"
   ]
  },
  {
   "cell_type": "code",
   "execution_count": 67,
   "metadata": {},
   "outputs": [],
   "source": [
    "def guess_number():\n",
    "    user_num = int(input('Enter your guess number: '))\n",
    "    \n",
    "    #count = 0\n",
    "    while user_num != cump_num:\n",
    "        if user_num > cump_num:\n",
    "            print('Enter a smaller one!')\n",
    "        elif user_num < cump_num:\n",
    "            print('Enter a bigger one!')\n",
    "             \n",
    "        user_num = int(input('Enter your guess number: '))\n",
    "        #count += 1\n",
    "        \n",
    "    print('Well done!')"
   ]
  },
  {
   "cell_type": "code",
   "execution_count": 70,
   "metadata": {
    "scrolled": true
   },
   "outputs": [
    {
     "name": "stdout",
     "output_type": "stream",
     "text": [
      "Enter your guess number: 50\n",
      "Enter a smaller one!\n",
      "Enter your guess number: 25\n",
      "Enter a smaller one!\n",
      "Enter your guess number: 12\n",
      "Enter a bigger one!\n",
      "Enter your guess number: 18\n",
      "Enter a bigger one!\n",
      "Enter your guess number: 22\n",
      "Enter a bigger one!\n",
      "Enter your guess number: 24\n",
      "Enter a smaller one!\n",
      "Enter your guess number: 23\n",
      "Well done!\n"
     ]
    }
   ],
   "source": [
    "guess_number()"
   ]
  },
  {
   "cell_type": "code",
   "execution_count": 71,
   "metadata": {},
   "outputs": [],
   "source": [
    "# contact"
   ]
  },
  {
   "cell_type": "code",
   "execution_count": 72,
   "metadata": {},
   "outputs": [
    {
     "name": "stdout",
     "output_type": "stream",
     "text": [
      "Enter the name: Saeed\n",
      "Enter the phone number: 09199193216\n",
      "Enter the email id: m.saeed.saffari@gmail.com\n"
     ]
    },
    {
     "data": {
      "text/plain": [
       "{'Saeed': ('09199193216', 'm.saeed.saffari@gmail.com')}"
      ]
     },
     "execution_count": 72,
     "metadata": {},
     "output_type": "execute_result"
    }
   ],
   "source": [
    "# 1\n",
    "def contact():\n",
    "    contact = {}\n",
    "    \n",
    "    name = input('Enter the name: ')\n",
    "    phone = input('Enter the phone number: ')\n",
    "    email = input('Enter the email id: ')\n",
    "    \n",
    "    \n",
    "    contact[name] = phone, email\n",
    "    return contact\n",
    "\n",
    "contact()"
   ]
  },
  {
   "cell_type": "code",
   "execution_count": 73,
   "metadata": {},
   "outputs": [
    {
     "data": {
      "text/plain": [
       "7"
      ]
     },
     "execution_count": 73,
     "metadata": {},
     "output_type": "execute_result"
    }
   ],
   "source": [
    "len('0191919')"
   ]
  },
  {
   "cell_type": "code",
   "execution_count": 77,
   "metadata": {},
   "outputs": [
    {
     "data": {
      "text/plain": [
       "True"
      ]
     },
     "execution_count": 77,
     "metadata": {},
     "output_type": "execute_result"
    }
   ],
   "source": [
    "'91912313'.isdigit()"
   ]
  },
  {
   "cell_type": "code",
   "execution_count": 79,
   "metadata": {},
   "outputs": [
    {
     "data": {
      "text/plain": [
       "'python course!'"
      ]
     },
     "execution_count": 79,
     "metadata": {},
     "output_type": "execute_result"
    }
   ],
   "source": [
    "x = 'python course!'\n",
    "x"
   ]
  },
  {
   "cell_type": "code",
   "execution_count": 80,
   "metadata": {},
   "outputs": [
    {
     "data": {
      "text/plain": [
       "0"
      ]
     },
     "execution_count": 80,
     "metadata": {},
     "output_type": "execute_result"
    }
   ],
   "source": [
    "x.find('p')"
   ]
  },
  {
   "cell_type": "code",
   "execution_count": 83,
   "metadata": {},
   "outputs": [
    {
     "data": {
      "text/plain": [
       "-1"
      ]
     },
     "execution_count": 83,
     "metadata": {},
     "output_type": "execute_result"
    }
   ],
   "source": [
    "x.find('Z')"
   ]
  },
  {
   "cell_type": "code",
   "execution_count": 84,
   "metadata": {},
   "outputs": [
    {
     "data": {
      "text/plain": [
       "-1"
      ]
     },
     "execution_count": 84,
     "metadata": {},
     "output_type": "execute_result"
    }
   ],
   "source": [
    "x.find('@')"
   ]
  },
  {
   "cell_type": "code",
   "execution_count": 85,
   "metadata": {},
   "outputs": [
    {
     "name": "stdout",
     "output_type": "stream",
     "text": [
      "Enter the name: saeed\n",
      "Enter the phone number: 09199193219\n",
      "Enter the email id: sadsaf\n",
      "Invalid email id!\n",
      "Enter the email id: safasf@gmail.com\n"
     ]
    },
    {
     "data": {
      "text/plain": [
       "{'saeed': ('09199193219', 'safasf@gmail.com')}"
      ]
     },
     "execution_count": 85,
     "metadata": {},
     "output_type": "execute_result"
    }
   ],
   "source": [
    "# 2\n",
    "def contact():\n",
    "    contact = {}\n",
    "    \n",
    "    name = input('Enter the name: ')\n",
    "    phone = input('Enter the phone number: ')\n",
    "    \n",
    "    while len(phone) != 11 or not phone.isdigit():\n",
    "        print('Invalid phone number!')\n",
    "        phone = input('Enter the phone number: ')\n",
    "    \n",
    "    email = input('Enter the email id: ')\n",
    "    \n",
    "    while email.find('@') == -1:\n",
    "        print('Invalid email id!')\n",
    "        email = input('Enter the email id: ')\n",
    "    \n",
    "    contact[name] = phone, email\n",
    "    return contact\n",
    "\n",
    "contact()"
   ]
  },
  {
   "cell_type": "code",
   "execution_count": 87,
   "metadata": {},
   "outputs": [],
   "source": [
    "# 3\n",
    "def contact():\n",
    "    contact = {}\n",
    "    \n",
    "    while True:                            # new\n",
    "        name = input('Enter the name: ')\n",
    "        \n",
    "        if name.lower() == 'end':          # new\n",
    "            break                          # new\n",
    "        \n",
    "        phone = input('Enter the phone number: ')\n",
    "    \n",
    "        while len(phone) != 11 or not phone.isdigit():\n",
    "            print('Invalid phone number!')\n",
    "            phone = input('Enter the phone number: ')\n",
    "    \n",
    "        email = input('Enter the email id: ')\n",
    "    \n",
    "        while email.find('@') == -1:\n",
    "            print('Invalid email id!')\n",
    "            email = input('Enter the email id: ')\n",
    "    \n",
    "        contact[name] = phone, email\n",
    "    \n",
    "    return contact"
   ]
  },
  {
   "cell_type": "code",
   "execution_count": 88,
   "metadata": {},
   "outputs": [
    {
     "name": "stdout",
     "output_type": "stream",
     "text": [
      "Enter the name: Saeed\n",
      "Enter the phone number: 09199193216\n",
      "Enter the email id: msaaeed@gmai.com\n",
      "Enter the name: Javad\n",
      "Enter the phone number: 09199193215\n",
      "Enter the email id: javad@gmail.com\n",
      "Enter the name: end\n"
     ]
    },
    {
     "data": {
      "text/plain": [
       "{'Saeed': ('09199193216', 'msaaeed@gmai.com'),\n",
       " 'Javad': ('09199193215', 'javad@gmail.com')}"
      ]
     },
     "execution_count": 88,
     "metadata": {},
     "output_type": "execute_result"
    }
   ],
   "source": [
    "cont = contact()\n",
    "cont"
   ]
  },
  {
   "cell_type": "code",
   "execution_count": 89,
   "metadata": {},
   "outputs": [
    {
     "data": {
      "text/plain": [
       "{'Saeed': ('09199193216', 'msaaeed@gmai.com'),\n",
       " 'Javad': ('09199193215', 'javad@gmail.com')}"
      ]
     },
     "execution_count": 89,
     "metadata": {},
     "output_type": "execute_result"
    }
   ],
   "source": [
    "cont"
   ]
  },
  {
   "cell_type": "code",
   "execution_count": 90,
   "metadata": {},
   "outputs": [
    {
     "data": {
      "text/plain": [
       "('09199193215', 'javad@gmail.com')"
      ]
     },
     "execution_count": 90,
     "metadata": {},
     "output_type": "execute_result"
    }
   ],
   "source": [
    "cont['Javad']"
   ]
  },
  {
   "cell_type": "code",
   "execution_count": 91,
   "metadata": {},
   "outputs": [
    {
     "data": {
      "text/plain": [
       "'09199193215'"
      ]
     },
     "execution_count": 91,
     "metadata": {},
     "output_type": "execute_result"
    }
   ],
   "source": [
    "cont['Javad'][0]"
   ]
  },
  {
   "cell_type": "code",
   "execution_count": 92,
   "metadata": {},
   "outputs": [],
   "source": [
    "x = cont['Javad'][0]"
   ]
  },
  {
   "cell_type": "code",
   "execution_count": 93,
   "metadata": {},
   "outputs": [
    {
     "data": {
      "text/plain": [
       "'09199193215'"
      ]
     },
     "execution_count": 93,
     "metadata": {},
     "output_type": "execute_result"
    }
   ],
   "source": [
    "x"
   ]
  },
  {
   "cell_type": "code",
   "execution_count": 94,
   "metadata": {},
   "outputs": [
    {
     "data": {
      "text/plain": [
       "('09199193216', 'msaaeed@gmai.com')"
      ]
     },
     "execution_count": 94,
     "metadata": {},
     "output_type": "execute_result"
    }
   ],
   "source": [
    "cont['Saeed']"
   ]
  },
  {
   "cell_type": "code",
   "execution_count": 97,
   "metadata": {},
   "outputs": [
    {
     "name": "stdout",
     "output_type": "stream",
     "text": [
      "Saeed\n",
      "('09199193216', 'msaaeed@gmai.com')\n",
      "Javad\n",
      "('09199193215', 'javad@gmail.com')\n"
     ]
    }
   ],
   "source": [
    "for i in cont:\n",
    "    print(i)\n",
    "    print(cont.get(i))"
   ]
  },
  {
   "cell_type": "code",
   "execution_count": null,
   "metadata": {},
   "outputs": [],
   "source": []
  },
  {
   "cell_type": "code",
   "execution_count": null,
   "metadata": {},
   "outputs": [],
   "source": []
  },
  {
   "cell_type": "markdown",
   "metadata": {},
   "source": [
    "### 1.1.2 Diffrence between return and print"
   ]
  },
  {
   "cell_type": "code",
   "execution_count": 106,
   "metadata": {},
   "outputs": [
    {
     "name": "stdout",
     "output_type": "stream",
     "text": [
      "3\n",
      "-------\n",
      "3\n",
      "5\n",
      "None\n",
      "5\n",
      "**********\n",
      "3\n",
      "5\n",
      "10\n",
      "*_*_*_*_*\n"
     ]
    }
   ],
   "source": [
    "def fun1(x1):\n",
    "    x1 = x1 + 2\n",
    "    print(x1)\n",
    "    \n",
    "def fun2(x1):\n",
    "    x1 = x1 + 2\n",
    "    return x1\n",
    "\n",
    "\n",
    "x1 = 3\n",
    "\n",
    "print(x1)\n",
    "print('-------')\n",
    "\n",
    "\n",
    "print(x1)\n",
    "print(fun1(x1))\n",
    "fun1(x1)\n",
    "#print(fun1(x1)*2)\n",
    "print('**********')\n",
    "\n",
    "\n",
    "print(x1)\n",
    "print(fun2(x1))\n",
    "print(fun2(x1)*2)\n",
    "\n",
    "print('*_*_*_*_*')"
   ]
  },
  {
   "cell_type": "code",
   "execution_count": 100,
   "metadata": {},
   "outputs": [
    {
     "name": "stdout",
     "output_type": "stream",
     "text": [
      "4\n",
      "None\n"
     ]
    }
   ],
   "source": [
    "print(print(4))"
   ]
  },
  {
   "cell_type": "code",
   "execution_count": null,
   "metadata": {},
   "outputs": [],
   "source": []
  },
  {
   "cell_type": "markdown",
   "metadata": {},
   "source": [
    "## 1.2 Functions (Lambda)"
   ]
  },
  {
   "cell_type": "markdown",
   "metadata": {},
   "source": [
    "Finally, a quick-and-dirty way to define functions is by using `lambda` functions, which are also known as [anonymous functions](https://en.wikipedia.org/wiki/Anonymous_function).\n",
    "The inner workings of anonymous functions are quite complicated and we will not cover them.\n",
    "Here it should suffice to know that these functions are defined _in-line_, which means that we do not write a code block for them.\n",
    "Anonymous functions are useful for quick one-liners that do not require much work.\n",
    "\n",
    "We can re-define the function `sqrt` above as an anonymous function."
   ]
  },
  {
   "cell_type": "code",
   "execution_count": 107,
   "metadata": {},
   "outputs": [],
   "source": [
    "root2 = lambda x: x ** (1/2)"
   ]
  },
  {
   "cell_type": "markdown",
   "metadata": {},
   "source": [
    "The syntax is as follows.\n",
    "The function `root2` takes an argument `x`, which is indicated right after the keyword `lambda`.\n",
    "There is a semicolon following the statment, after which we find the main task performed by the function we defined."
   ]
  },
  {
   "cell_type": "code",
   "execution_count": 110,
   "metadata": {},
   "outputs": [
    {
     "data": {
      "text/plain": [
       "1.4142135623730951"
      ]
     },
     "execution_count": 110,
     "metadata": {},
     "output_type": "execute_result"
    }
   ],
   "source": [
    "root2(2)"
   ]
  },
  {
   "cell_type": "markdown",
   "metadata": {},
   "source": [
    "### 1.2.1 Other Example"
   ]
  },
  {
   "cell_type": "code",
   "execution_count": 111,
   "metadata": {},
   "outputs": [],
   "source": [
    "m = lambda x, y, z : (x + y + z) / 3"
   ]
  },
  {
   "cell_type": "code",
   "execution_count": 115,
   "metadata": {},
   "outputs": [
    {
     "data": {
      "text/plain": [
       "0.3333333333333333"
      ]
     },
     "execution_count": 115,
     "metadata": {},
     "output_type": "execute_result"
    }
   ],
   "source": [
    "m(12,43, -54)"
   ]
  },
  {
   "cell_type": "code",
   "execution_count": null,
   "metadata": {},
   "outputs": [],
   "source": []
  },
  {
   "cell_type": "code",
   "execution_count": null,
   "metadata": {},
   "outputs": [],
   "source": []
  },
  {
   "cell_type": "code",
   "execution_count": null,
   "metadata": {},
   "outputs": [],
   "source": []
  }
 ],
 "metadata": {
  "kernelspec": {
   "display_name": "Python 3 (ipykernel)",
   "language": "python",
   "name": "python3"
  },
  "language_info": {
   "codemirror_mode": {
    "name": "ipython",
    "version": 3
   },
   "file_extension": ".py",
   "mimetype": "text/x-python",
   "name": "python",
   "nbconvert_exporter": "python",
   "pygments_lexer": "ipython3",
   "version": "3.13.0"
  }
 },
 "nbformat": 4,
 "nbformat_minor": 4
}
